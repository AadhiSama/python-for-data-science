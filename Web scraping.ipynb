{
 "cells": [
  {
   "cell_type": "code",
   "execution_count": 7,
   "id": "65826e04-0eb7-431c-b181-b041b04e50cc",
   "metadata": {},
   "outputs": [],
   "source": [
    "from bs4 import BeautifulSoup\n",
    "from selenium import webdriver\n",
    "import requests\n",
    "import pandas as pd\n",
    "import numpy as np"
   ]
  },
  {
   "cell_type": "code",
   "execution_count": 17,
   "id": "338f89ac-81e1-471f-bc0e-54a12c56f92a",
   "metadata": {},
   "outputs": [
    {
     "name": "stdout",
     "output_type": "stream",
     "text": [
      "The Nation's Favourite One Hit Wonders (2016)\n",
      "\n",
      "A UK poll of 2,000 music fans compiled by marketing research company OnePoll.\n",
      "\n"
     ]
    }
   ],
   "source": [
    "with open(\"One-hit wonder - Wikipedia.html\") as html_file:\n",
    "    soup = BeautifulSoup(html_file, 'lxml')\n",
    "\n",
    "#title\n",
    "basic_info = soup.find('div', class_='mw-parser-output')\n",
    "title = basic_info.find('h4').text\n",
    "print(title.split('[')[0])\n",
    "print('')\n",
    "\n",
    "#summary of data\n",
    "address = basic_info.find('h4')\n",
    "summary = address.find_next('p').text\n",
    "summary = summary.split('[' )[0] \n",
    "print(summary)\n",
    "print('')\n",
    "\n",
    "#ohw data\n",
    "ohw = []\n",
    "content = soup.find('div', class_='div-col')\n",
    "for li in content.find_all('li'):\n",
    "    ohw.append(li.text)\n",
    "\n",
    "#dataframe \n",
    "df = pd.DataFrame(ohw)\n",
    "df.rename(columns={'One hit wonder song + artist' : '0' })\n",
    "my_column = ['One hit wonder song + Artist']\n",
    "df.columns = my_column\n",
    "df.to_csv('/Users/aadhisamarasekara/Desktop/One hit wonder project/research-one-hit-wonders/python/df.csv')"
   ]
  },
  {
   "cell_type": "code",
   "execution_count": null,
   "id": "506e6375-c8d0-4ca2-9eef-a9a75f5d233b",
   "metadata": {},
   "outputs": [],
   "source": []
  },
  {
   "cell_type": "code",
   "execution_count": null,
   "id": "e1892384-31a4-427f-8930-0bd9bc1514ab",
   "metadata": {},
   "outputs": [],
   "source": []
  },
  {
   "cell_type": "code",
   "execution_count": null,
   "id": "42655396-ced9-4943-9b2e-2c0f9d6497a0",
   "metadata": {},
   "outputs": [],
   "source": []
  }
 ],
 "metadata": {
  "kernelspec": {
   "display_name": "One-Hit Wonders",
   "language": "python",
   "name": "one-hit-wonders"
  },
  "language_info": {
   "codemirror_mode": {
    "name": "ipython",
    "version": 3
   },
   "file_extension": ".py",
   "mimetype": "text/x-python",
   "name": "python",
   "nbconvert_exporter": "python",
   "pygments_lexer": "ipython3",
   "version": "3.9.5"
  }
 },
 "nbformat": 4,
 "nbformat_minor": 5
}
